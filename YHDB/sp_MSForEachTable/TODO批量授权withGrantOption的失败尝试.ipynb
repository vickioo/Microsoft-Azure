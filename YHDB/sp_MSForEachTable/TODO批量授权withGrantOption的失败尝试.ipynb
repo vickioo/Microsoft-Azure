{
    "metadata": {
        "kernelspec": {
            "name": "SQL",
            "display_name": "SQL",
            "language": "sql"
        },
        "language_info": {
            "name": "sql",
            "version": ""
        }
    },
    "nbformat_minor": 2,
    "nbformat": 4,
    "cells": [
        {
            "cell_type": "code",
            "source": [
                "/* TODO：实测后无法正常在SQLServer2012环境生效的语句，包含2种方案，可能是版本问题或者其他细节差异原因，待排查 */\r\n",
                "USE YH100; -- 替换为您的数据库名称\r\n",
                "GO\r\n",
                "/* SQLServer2012不兼容的批量授权写法 */\r\n",
                "-- -- 授权 SELECT 权限到所有表\r\n",
                "-- GRANT SELECT ON ALL TABLES IN SCHEMA dbo TO [DATABASE\\bom01] WITH GRANT OPTION;\r\n",
                "\r\n",
                "-- -- 授权 SELECT 权限到所有视图\r\n",
                "-- GRANT SELECT ON ALL VIEWS IN SCHEMA dbo TO [DATABASE\\bom01] WITH GRANT OPTION;\r\n",
                "select USER\r\n",
                "PRINT '正在以上述用户执行后面的TSQL'\r\n",
                "go\r\n",
                "\r\n",
                "/* 修改后，仍然无法实际在SQLServer2012中生效的批量授权语句？ */\r\n",
                "-- 授权 SELECT 权限到所有表\r\n",
                "EXEC sp_MSForEachTable '\r\n",
                "    IF EXISTS (\r\n",
                "        SELECT 1\r\n",
                "        FROM sys.objects o\r\n",
                "        INNER JOIN sys.schemas s ON o.schema_id = s.schema_id\r\n",
                "        WHERE o.name = ''?'' AND s.name = ''dbo'' AND o.type IN (''U'')\r\n",
                "    )\r\n",
                "    BEGIN\r\n",
                "        GRANT SELECT ON [?] TO [DATABASE\\bom01] WITH GRANT OPTION;\r\n",
                "    END\r\n",
                "';\r\n",
                "\r\n",
                "-- 授权 SELECT 权限到所有视图\r\n",
                "EXEC sp_MSForEachTable '\r\n",
                "    IF EXISTS (\r\n",
                "        SELECT 1\r\n",
                "        FROM sys.objects o\r\n",
                "        INNER JOIN sys.schemas s ON o.schema_id = s.schema_id\r\n",
                "        WHERE o.name = ''?'' AND s.name = ''dbo'' AND o.type IN (''V'')\r\n",
                "    )\r\n",
                "    BEGIN\r\n",
                "        GRANT SELECT ON [?] TO [DATABASE\\bom01] WITH GRANT OPTION;\r\n",
                "    END\r\n",
                "';"
            ],
            "metadata": {
                "azdata_cell_guid": "54db044d-440a-49ad-88be-1dbea5cdb319",
                "language": "sql"
            },
            "outputs": [],
            "execution_count": null
        }
    ]
}