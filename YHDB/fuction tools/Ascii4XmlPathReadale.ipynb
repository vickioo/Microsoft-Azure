{
    "metadata": {
        "kernelspec": {
            "name": "SQL",
            "display_name": "SQL",
            "language": "sql"
        },
        "language_info": {
            "name": "sql",
            "version": ""
        }
    },
    "nbformat_minor": 2,
    "nbformat": 4,
    "cells": [
        {
            "cell_type": "markdown",
            "source": [
                "# FOR XML PATH('')：转义“特殊”字符\n",
                "\n",
                "<span style=\"box-sizing: border-box; color: rgb(153, 153, 153); font-family: Helvetica, Arial, &quot;PingFang SC&quot;, &quot;Noto Sans&quot;, Roboto, &quot;Microsoft Yahei&quot;, sans-serif; font-size: 12px; background-color: rgb(255, 255, 255);\"><a class=\"aw-user-name\" href=\"https://github.com/ciste\" data-id=\"223\" target=\"_blank\" rel=\"nofollow\" style=\"box-sizing: border-box; background: 0px 0px; color: rgb(21, 95, 170); cursor: pointer; line-height: 20px;\">ciste</a>&nbsp;</span> <span style=\"box-sizing: border-box; color: rgb(153, 153, 153); font-family: Helvetica, Arial, &quot;PingFang SC&quot;, &quot;Noto Sans&quot;, Roboto, &quot;Microsoft Yahei&quot;, sans-serif; font-size: 12px; background-color: rgb(255, 255, 255);\">发布于 2018-07-07&nbsp;</span> <span style=\"box-sizing: border-box; color: rgb(153, 153, 153); font-family: Helvetica, Arial, &quot;PingFang SC&quot;, &quot;Noto Sans&quot;, Roboto, &quot;Microsoft Yahei&quot;, sans-serif; font-size: 12px; background-color: rgb(255, 255, 255);\">•&nbsp;</span> <span style=\"box-sizing: border-box; color: rgb(153, 153, 153); font-family: Helvetica, Arial, &quot;PingFang SC&quot;, &quot;Noto Sans&quot;, Roboto, &quot;Microsoft Yahei&quot;, sans-serif; font-size: 12px; background-color: rgb(255, 255, 255);\">在&nbsp;<a href=\"https://www.oomake.com/topic/tsql\" class=\"text\" style=\"box-sizing: border-box; background: 0px 0px; color: rgb(21, 95, 170); cursor: pointer;\">tsql</a>&nbsp;</span> <span style=\"box-sizing: border-box; color: rgb(153, 153, 153); font-family: Helvetica, Arial, &quot;PingFang SC&quot;, &quot;Noto Sans&quot;, Roboto, &quot;Microsoft Yahei&quot;, sans-serif; font-size: 12px; background-color: rgb(255, 255, 255);\">•&nbsp;</span> <span style=\"box-sizing: border-box; color: rgb(153, 153, 153); font-family: Helvetica, Arial, &quot;PingFang SC&quot;, &quot;Noto Sans&quot;, Roboto, &quot;Microsoft Yahei&quot;, sans-serif; font-size: 12px; background-color: rgb(255, 255, 255);\">最后更新 2018-07-07 12:04&nbsp;</span> <span style=\"box-sizing: border-box; color: rgb(153, 153, 153); font-family: Helvetica, Arial, &quot;PingFang SC&quot;, &quot;Noto Sans&quot;, Roboto, &quot;Microsoft Yahei&quot;, sans-serif; font-size: 12px; background-color: rgb(255, 255, 255);\">•&nbsp;</span> <span style=\"box-sizing: border-box; color: rgb(153, 153, 153); font-family: Helvetica, Arial, &quot;PingFang SC&quot;, &quot;Noto Sans&quot;, Roboto, &quot;Microsoft Yahei&quot;, sans-serif; font-size: 12px; background-color: rgb(255, 255, 255);\">289 浏览</span>"
            ],
            "metadata": {
                "azdata_cell_guid": "c3373890-c1e3-49d8-825d-1348e3f3ec2e"
            },
            "attachments": {}
        },
        {
            "cell_type": "code",
            "source": [
                "/* 本地化解读所模拟的缺失部分数据，疑似解码用 */\r\n",
                "drop table ##Numbers;\r\n",
                "select * into ##Numbers\r\n",
                "from (values\r\n",
                "        (1, 1),\r\n",
                "        (2, 2)) as a(Number, b);\r\n",
                "select * from ##Numbers"
            ],
            "metadata": {
                "language": "sql",
                "azdata_cell_guid": "883198f6-d081-4993-89d7-fad5f6d7254c"
            },
            "outputs": [
                {
                    "output_type": "display_data",
                    "data": {
                        "text/html": "(2 行受到影响)"
                    },
                    "metadata": {}
                },
                {
                    "output_type": "display_data",
                    "data": {
                        "text/html": "(2 行受到影响)"
                    },
                    "metadata": {}
                },
                {
                    "output_type": "display_data",
                    "data": {
                        "text/html": "执行时间总计: 00:00:00.015"
                    },
                    "metadata": {}
                },
                {
                    "output_type": "execute_result",
                    "metadata": {},
                    "execution_count": 9,
                    "data": {
                        "application/vnd.dataresource+json": {
                            "schema": {
                                "fields": [
                                    {
                                        "name": "Number"
                                    },
                                    {
                                        "name": "b"
                                    }
                                ]
                            },
                            "data": [
                                {
                                    "0": "1",
                                    "1": "1"
                                },
                                {
                                    "0": "2",
                                    "1": "2"
                                }
                            ]
                        },
                        "text/html": [
                            "<table>",
                            "<tr><th>Number</th><th>b</th></tr>",
                            "<tr><td>1</td><td>1</td></tr>",
                            "<tr><td>2</td><td>2</td></tr>",
                            "</table>"
                        ]
                    }
                }
            ],
            "execution_count": 9
        },
        {
            "cell_type": "code",
            "source": [
                "-- T-SQL编程：循环样例\r\n",
                "declare @i INT\r\n",
                "SET @i = 1\r\n",
                "while @i<= 10\r\n",
                "    BEGIN\r\n",
                "    print @i\r\n",
                "    SET @i = @i + 1\r\n",
                "    END"
            ],
            "metadata": {
                "language": "sql",
                "azdata_cell_guid": "1e0e5937-8d4a-4ab1-94f2-c72af5ec1d9a"
            },
            "outputs": [],
            "execution_count": null
        },
        {
            "cell_type": "code",
            "source": [
                "declare @i INT\r\n",
                "SET @i = 1\r\n",
                "while @i<= 10\r\n",
                "    BEGIN\r\n",
                "    print @i\r\n",
                "    SET @i = @i + 1\r\n",
                "    END"
            ],
            "metadata": {
                "language": "sql",
                "azdata_cell_guid": "2879c14b-4a76-4e35-aa66-3344cf2507a5"
            },
            "outputs": [],
            "execution_count": null
        },
        {
            "cell_type": "code",
            "source": [
                "DECLARE @R           char(40)\r\n",
                "DECLARE @U           char(40)\r\n",
                "SET @R=' abcdefghijklmnopqrstuvwxyz!@#$%^&*()_+'+char(181)\r\n",
                "SET @U=REVERSE(@R)\r\n",
                "DECLARE @TestTable TABLE (RowID int identity(1,1) primary key, Unreadable  varchar(500))\r\n",
                "INSERT INTO @TestTable VALUES ('+µt$zw!*µsu+yt!+s$xy')\r\n",
                "INSERT INTO @TestTable VALUES ('%*!!xµpxu!(')\r\n",
                "INSERT INTO @TestTable VALUES ('pxpµnxrµu+yµs%$t')\r\n",
                "select * from @TestTable\r\n",
                ";WITH CodeValues AS\r\n",
                "    (\r\n",
                "    SELECT\r\n",
                "        Number,SUBSTRING(@R,Number,1) AS R,ASCII(SUBSTRING(@U,Number,1)) AS UA\r\n",
                "        , @R rr, @U uu\r\n",
                "        FROM ##Numbers\r\n",
                "        -- WHERE Number<=LEN(@R)\r\n",
                "    )\r\n",
                "    select *, char(181) from CodeValues\r\n",
                "    -- SELECT\r\n",
                "    --     t.RowID\r\n",
                "    --         ,(SELECT\r\n",
                "    --               ''+c.R\r\n",
                "    --               FROM #Numbers               n\r\n",
                "    --                   INNER JOIN CodeValues  c ON ASCII(SUBSTRING(t.Unreadable,n.Number,1))=c.UA\r\n",
                "    --               WHERE n.Number<=LEN(t.Unreadable) \r\n",
                "    --               FOR XML PATH('') \r\n",
                "    --          ) AS readable\r\n",
                "    --     FROM @TestTable t\r\n",
                "    select * from ##numbers"
            ],
            "metadata": {
                "azdata_cell_guid": "40fda5de-b705-4b1b-9537-3e29b1245e5b",
                "language": "sql",
                "tags": []
            },
            "outputs": [
                {
                    "output_type": "display_data",
                    "data": {
                        "text/html": "(1 行受到影响)"
                    },
                    "metadata": {}
                },
                {
                    "output_type": "display_data",
                    "data": {
                        "text/html": "(1 行受到影响)"
                    },
                    "metadata": {}
                },
                {
                    "output_type": "display_data",
                    "data": {
                        "text/html": "(1 行受到影响)"
                    },
                    "metadata": {}
                },
                {
                    "output_type": "display_data",
                    "data": {
                        "text/html": "(3 行受到影响)"
                    },
                    "metadata": {}
                },
                {
                    "output_type": "display_data",
                    "data": {
                        "text/html": "(3 行受到影响)"
                    },
                    "metadata": {}
                },
                {
                    "output_type": "display_data",
                    "data": {
                        "text/html": "(3 行受到影响)"
                    },
                    "metadata": {}
                },
                {
                    "output_type": "display_data",
                    "data": {
                        "text/html": "执行时间总计: 00:00:00.032"
                    },
                    "metadata": {}
                },
                {
                    "output_type": "execute_result",
                    "execution_count": 34,
                    "data": {
                        "application/vnd.dataresource+json": {
                            "schema": {
                                "fields": [
                                    {
                                        "name": "RowID"
                                    },
                                    {
                                        "name": "Unreadable"
                                    }
                                ]
                            },
                            "data": [
                                {
                                    "0": "1",
                                    "1": "+μt$zw!*μsu+yt!+s$xy"
                                },
                                {
                                    "0": "2",
                                    "1": "%*!!xμpxu!("
                                },
                                {
                                    "0": "3",
                                    "1": "pxpμnxrμu+yμs%$t"
                                }
                            ]
                        },
                        "text/html": "<table><tr><th>RowID</th><th>Unreadable</th></tr><tr><td>1</td><td>+μt$zw!*μsu+yt!+s$xy</td></tr><tr><td>2</td><td>%*!!xμpxu!(</td></tr><tr><td>3</td><td>pxpμnxrμu+yμs%$t</td></tr></table>"
                    },
                    "metadata": {}
                },
                {
                    "output_type": "execute_result",
                    "execution_count": 34,
                    "data": {
                        "application/vnd.dataresource+json": {
                            "schema": {
                                "fields": [
                                    {
                                        "name": "Number"
                                    },
                                    {
                                        "name": "R"
                                    },
                                    {
                                        "name": "UA"
                                    },
                                    {
                                        "name": "rr"
                                    },
                                    {
                                        "name": "uu"
                                    },
                                    {
                                        "name": "(无列名称)"
                                    }
                                ]
                            },
                            "data": [
                                {
                                    "0": "3",
                                    "1": "NULL",
                                    "2": "NULL",
                                    "3": "NULL",
                                    "4": "NULL",
                                    "5": "NULL"
                                },
                                {
                                    "0": "5",
                                    "1": "NULL",
                                    "2": "NULL",
                                    "3": "NULL",
                                    "4": "NULL",
                                    "5": "NULL"
                                },
                                {
                                    "0": "10",
                                    "1": "NULL",
                                    "2": "NULL",
                                    "3": "NULL",
                                    "4": "NULL",
                                    "5": "NULL"
                                }
                            ]
                        },
                        "text/html": "<table><tr><th>Number</th><th>R</th><th>UA</th><th>rr</th><th>uu</th><th>(无列名称)</th></tr><tr><td>3</td><td>NULL</td><td>NULL</td><td>NULL</td><td>NULL</td><td>NULL</td></tr><tr><td>5</td><td>NULL</td><td>NULL</td><td>NULL</td><td>NULL</td><td>NULL</td></tr><tr><td>10</td><td>NULL</td><td>NULL</td><td>NULL</td><td>NULL</td><td>NULL</td></tr></table>"
                    },
                    "metadata": {}
                },
                {
                    "output_type": "execute_result",
                    "execution_count": 34,
                    "data": {
                        "application/vnd.dataresource+json": {
                            "schema": {
                                "fields": [
                                    {
                                        "name": "Number"
                                    },
                                    {
                                        "name": "b"
                                    }
                                ]
                            },
                            "data": [
                                {
                                    "0": "3",
                                    "1": "2"
                                },
                                {
                                    "0": "5",
                                    "1": "3"
                                },
                                {
                                    "0": "10",
                                    "1": "4"
                                }
                            ]
                        },
                        "text/html": "<table><tr><th>Number</th><th>b</th></tr><tr><td>3</td><td>2</td></tr><tr><td>5</td><td>3</td></tr><tr><td>10</td><td>4</td></tr></table>"
                    },
                    "metadata": {}
                }
            ],
            "execution_count": 34
        },
        {
            "cell_type": "markdown",
            "source": [
                "## 上述输出结果：\n",
                "\n",
                "```\n",
                "RowID       readable\n",
                "----------- ---------------------------------------\n",
                "1           a&#x20;simple&#x20;translation\n",
                "2           hello&#x20;world\n",
                "3           wow&#x20;you&#x20;ran&#x20;this\n",
                "```\n",
                "\n",
                "## 期待结果：\n",
                "\n",
                "```\n",
                "RowID       readable\n",
                "----------- ---------------------------------------\n",
                "1           a simple translation\n",
                "2           hello world\n",
                "3           wow you ran this\n",
                "```"
            ],
            "metadata": {
                "language": "sql",
                "azdata_cell_guid": "6e4d08f8-98a2-47c5-98a1-80462bdab106"
            },
            "attachments": {}
        },
        {
            "cell_type": "markdown",
            "source": [
                "[xsint](https://www.oomake.com/people/xsint) <span class=\"text-color-999\" style=\"box-sizing: border-box; font-size: 12px; color: rgb(153, 153, 153);\">2018-07-07</span>\n",
                "\n",
                "你得到的XML是正确的。它是XML，而不是文本，可以通过XML解析器以XML的形式读取。正如他们应该的那样，特殊字符正确地逃脱了。无论您使用哪种客户端模块，该XML都应将其解析为XML，而不是文本，然后才能正确显示。 更新： 如果不清楚，在查询中需要做的只是将XML作为XML和文本作为文本处理，而不是将XML作为文本进行混合，即："
            ],
            "metadata": {
                "language": "sql",
                "azdata_cell_guid": "95b3c18c-b232-4208-8a72-bb9dc817b2d3"
            },
            "attachments": {}
        },
        {
            "cell_type": "code",
            "source": [
                ";WITH CodeValues AS\r\n",
                "    (\r\n",
                "    SELECT\r\n",
                "        Number,SUBSTRING(@R,Number,1) AS R,ASCII(SUBSTRING(@U,Number,1)) AS UA\r\n",
                "        FROM Numbers\r\n",
                "        WHERE Number<=LEN(@R)\r\n",
                "    )\r\n",
                ", XmlValues AS (\r\n",
                "SELECT\r\n",
                "        t.RowID\r\n",
                "            ,(SELECT\r\n",
                "                  ''+c.R\r\n",
                "                  FROM Numbers               n\r\n",
                "                      INNER JOIN CodeValues  c ON ASCII(SUBSTRING(t.Unreadable,n.Number,1))=c.UA\r\n",
                "                  WHERE n.Number<=LEN(t.Unreadable) \r\n",
                "                  FOR XML PATH(''), TYPE\r\n",
                "             ) AS readable\r\n",
                "        FROM @TestTable t)\r\n",
                "SELECT x.RowId,\r\n",
                "    x.readable.value('.', 'VARCHAR(8000)') as readable\r\n",
                "    FROM XmlValues AS x"
            ],
            "metadata": {
                "azdata_cell_guid": "f596ba88-d129-44fe-bb67-35ac15bc5850",
                "language": "sql"
            },
            "outputs": [],
            "execution_count": null
        }
    ]
}