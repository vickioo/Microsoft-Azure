{
    "metadata": {
        "kernelspec": {
            "name": "SQL",
            "display_name": "SQL",
            "language": "sql"
        },
        "language_info": {
            "name": "sql",
            "version": ""
        }
    },
    "nbformat_minor": 2,
    "nbformat": 4,
    "cells": [
        {
            "cell_type": "markdown",
            "source": [
                "# [<span role=\"heading\" aria-level=\"2\" style=\"margin: 0px; padding: 0px; vertical-align: middle;\">按多个关键字查询（sql）</span>](https:\\www.cnblogs.com\\longdexinoy\\archive\\2012\\09\\07\\2676022.html)\n",
                "\n",
                "### 1\\. 标量值函数 fn\\_GetMoreKeyWordsSelectExpression"
            ],
            "metadata": {
                "azdata_cell_guid": "eeea4b9e-b831-491a-b68a-d8fbdf31c070"
            },
            "attachments": {}
        },
        {
            "cell_type": "code",
            "source": [
                "CREATE FUNCTION [dbo].[fn_GetMoreKeyWordsSelectExpression] \r\n",
                "(\r\n",
                "    -- Add the parameters for the function here\r\n",
                "    @KeyWords nvarchar(500), --@KeyWords 指：关键字字符串，如 'voa,vs,kk,shouji'\r\n",
                "    @Operation nvarchar(50),    --@Operation 指：AND 或 OR 关键字\r\n",
                "    @ColumName nvarchar(100) --@ColumName 指：列名\r\n",
                ")\r\n",
                "RETURNS nvarchar(4000)\r\n",
                "AS\r\n",
                "BEGIN\r\n",
                "    -- Declare the return variable here\r\n",
                "    declare @position int\r\n",
                "    declare @KeyWord nvarchar(500)\r\n",
                "    declare @Expression nvarchar(4000)\r\n",
                "\r\n",
                "--    set @ColumName = 'Topics'\r\n",
                "--    set @KeyWords = 'voa,vs,kk'\r\n",
                "--    set @Expression = ''\r\n",
                "--    set @Operation = ' or '\r\n",
                "\r\n",
                "    set @Expression = ''\r\n",
                "    while (len(@KeyWords) > 0)\r\n",
                "    begin\r\n",
                "        set @position = charindex(',',@KeyWords)\r\n",
                "        if @position > 0\r\n",
                "        begin\r\n",
                "            set @KeyWord = substring(@KeyWords,1,@position - 1)\r\n",
                "            set @Expression = @Expression + ' ' + @Operation  + ' ' + @ColumName + ' like ' + '''' + '%' + @KeyWord + '%' + ''''\r\n",
                "            set @KeyWords = substring(@KeyWords,@position + 1,len(@KeyWords))\r\n",
                "        end\r\n",
                "        else\r\n",
                "        begin\r\n",
                "            set @Expression = @Expression + ' ' + @Operation + ' ' + @ColumName + ' like ' + '''' + '%' + @KeyWords + '%' + ''''\r\n",
                "            set @KeyWords = ''\r\n",
                "        end\r\n",
                "    end\r\n",
                "\r\n",
                "    set @Expression = substring(@Expression,charindex(@Operation,@Expression) + 3,len(@Expression))\r\n",
                "\r\n",
                "    -- Return the result of the function\r\n",
                "    RETURN (@Expression)\r\n",
                "\r\n",
                "END"
            ],
            "metadata": {
                "azdata_cell_guid": "c4fbf1c2-7200-4819-9f22-2f7ccbbe8042",
                "language": "sql"
            },
            "outputs": [],
            "execution_count": null
        },
        {
            "cell_type": "markdown",
            "source": [
                "### <span style=\"color: rgb(17, 17, 17); font-family: &quot;PingFang SC&quot;, &quot;Microsoft YaHei&quot;, &quot;Helvetica Neue&quot;, Helvetica, Arial, sans-serif; font-size: 13px; background-color: rgb(255, 255, 255);\">2.存储过程 up_SelectByMoreKeyWords</span>"
            ],
            "metadata": {
                "language": "",
                "azdata_cell_guid": "56893d42-c566-4e57-9da2-00b017720243"
            },
            "attachments": {}
        },
        {
            "cell_type": "code",
            "source": [
                "CREATE PROCEDURE [dbo].[up_SelectByMoreKeyWords]\r\n",
                "    @Flag nvarchar(100), \r\n",
                "    @KeyWords nvarchar(500), --@KeyWords 指：关键字字符串，如 'voa,vs,kk,shouji'\r\n",
                "    @SearchBy nvarchar(100) --@SearchBy 指：按具体列明来查询，如 Topics，Contents\r\n",
                "AS\r\n",
                "BEGIN\r\n",
                "    -- SET NOCOUNT ON added to prevent extra result sets from\r\n",
                "    -- interfering with SELECT statements.\r\n",
                "    SET NOCOUNT ON;\r\n",
                "    \r\n",
                "    declare @sql nvarchar(4000)\r\n",
                "    declare @sql1 nvarchar(4000)\r\n",
                "    declare @sql2 nvarchar(4000)\r\n",
                "\r\n",
                "    set @sql1 = 'select \r\n",
                "    t.TopicsId,\r\n",
                "    t.Topics,\r\n",
                "    p.Contents,\r\n",
                "    t.UserName,\r\n",
                "    t.CreateTime\r\n",
                "    from dbo.BBS_Topics t\r\n",
                "    join dbo.BBS_Posts p  on t.TopicsId = p.TopicsId\r\n",
                "    where p.LayId = 0 and t.DisplayModes > 0 and (' + dbo.fn_GetMoreKeyWordsSelectExpression(@KeyWords,'or','p.' + @SearchBy) + ')'\r\n",
                "\r\n",
                "    set @sql2 = 'select \r\n",
                "    t.TopicsId,\r\n",
                "    t.Topics,\r\n",
                "    p.Contents,\r\n",
                "    t.UserName,\r\n",
                "    t.CreateTime\r\n",
                "    from dbo.BBS_Topics t\r\n",
                "    join dbo.BBS_Posts p  on t.TopicsId = p.TopicsId\r\n",
                "    where p.LayId = 0 and t.DisplayModes > 0 and (' + dbo.fn_GetMoreKeyWordsSelectExpression(@KeyWords,'and','p.' + @SearchBy) + ')'\r\n",
                "\r\n",
                "\r\n",
                "    if @flag = 'or'\r\n",
                "    set @sql = @sql1\r\n",
                "    else\r\n",
                "    set @sql = @sql2\r\n",
                "\r\n",
                "    --print @sql\r\n",
                "    exec (@sql)\r\n",
                "\r\n",
                "END"
            ],
            "metadata": {
                "language": "sql",
                "azdata_cell_guid": "52cb0c50-9a64-4a7e-b70e-ea041275061c"
            },
            "outputs": [],
            "execution_count": null
        }
    ]
}